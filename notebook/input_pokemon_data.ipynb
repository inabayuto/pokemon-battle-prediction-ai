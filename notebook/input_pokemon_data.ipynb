{
 "cells": [
  {
   "cell_type": "code",
   "execution_count": null,
   "metadata": {},
   "outputs": [],
   "source": [
    "# General\n",
    "import pandas as pd\n",
    "import matplotlib.pyplot as plt\n",
    "\n",
    "# tqdm\n",
    "from tqdm import tqdm\n",
    "\n",
    "# 親のフォルダのパスを追加\n",
    "import sys; sys.path.insert(0, '..')\n",
    "\n",
    "from util.data_loader import DataLoader\n",
    "from util.database_server import DatabaseSaver"
   ]
  },
  {
   "cell_type": "code",
   "execution_count": 8,
   "metadata": {},
   "outputs": [
    {
     "name": "stderr",
     "output_type": "stream",
     "text": [
      "/Users/inabahayato/Desktop/py-lab/pokemon/notebook/../util/data_loader.py:74: DtypeWarning: Columns (3) have mixed types. Specify dtype option on import or set low_memory=False.\n",
      "  df = pd.read_csv(file_path)\n"
     ]
    },
    {
     "name": "stdout",
     "output_type": "stream",
     "text": [
      "保存完了\n"
     ]
    }
   ],
   "source": [
    "loader = DataLoader()\n",
    "\n",
    "# データフレームの読み込み\n",
    "dataframes = {\n",
    "    \"pokemon_data\": loader.load(\"pokemon_data\"),\n",
    "    \"pokemon_training\": loader.load(\"pokemon_training\"),\n",
    "    \"pokemon_moves\": loader.load(\"pokemon_moves\"),\n",
    "    \"pokemon_info\": loader.load(\"pokemon_infos\"),\n",
    "}\n",
    "\n",
    "# SQLiteに保存\n",
    "db_saver = DatabaseSaver(\"../pokemon.db\")\n",
    "db_saver.save_dataframes(dataframes)"
   ]
  },
  {
   "cell_type": "code",
   "execution_count": null,
   "metadata": {},
   "outputs": [],
   "source": []
  }
 ],
 "metadata": {
  "kernelspec": {
   "display_name": "Python 3",
   "language": "python",
   "name": "python3"
  },
  "language_info": {
   "codemirror_mode": {
    "name": "ipython",
    "version": 3
   },
   "file_extension": ".py",
   "mimetype": "text/x-python",
   "name": "python",
   "nbconvert_exporter": "python",
   "pygments_lexer": "ipython3",
   "version": "3.13.1"
  }
 },
 "nbformat": 4,
 "nbformat_minor": 2
}
