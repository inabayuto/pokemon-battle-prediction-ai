{
 "cells": [
  {
   "cell_type": "code",
   "execution_count": 1,
   "metadata": {},
   "outputs": [],
   "source": [
    "# 親のフォルダのパスを追加\n",
    "import sys; sys.path.insert(0, '..')\n",
    "\n",
    "from util.get_pokemon_info import FetchPokemonInfo\n",
    "from util.get_pokemon_moves import FetchPokemonMoves\n",
    "from util.get_pokemon_training import FetchPokemonTraining\n",
    "from util.get_pokemon_base import FetchPokemonbase\n",
    "from util.get_battles_meta import FetchBattlesMeta"
   ]
  },
  {
   "cell_type": "code",
   "execution_count": 2,
   "metadata": {},
   "outputs": [
    {
     "name": "stderr",
     "output_type": "stream",
     "text": [
      "Pokémon List Progress: 100%|██████████| 1215/1215 [10:15<00:00,  1.97it/s]\n"
     ]
    },
    {
     "data": {
      "text/plain": [
       "'data/pokemon_data.csv'"
      ]
     },
     "execution_count": 2,
     "metadata": {},
     "output_type": "execute_result"
    }
   ],
   "source": [
    "# pokemon_info\n",
    "fetcher = FetchPokemonInfo()\n",
    "fetcher.save_pokemon_data()"
   ]
  },
  {
   "cell_type": "code",
   "execution_count": 2,
   "metadata": {},
   "outputs": [
    {
     "name": "stderr",
     "output_type": "stream",
     "text": [
      "Pokémon List Progress: 100%|██████████| 1025/1025 [04:03<00:00,  4.21it/s]\n"
     ]
    },
    {
     "data": {
      "text/plain": [
       "'./data/pokemon_training.csv'"
      ]
     },
     "execution_count": 2,
     "metadata": {},
     "output_type": "execute_result"
    }
   ],
   "source": [
    "# get_training\n",
    "fetcher = FetchPokemonTraining()\n",
    "fetcher.save_pokemon_training()"
   ]
  },
  {
   "cell_type": "code",
   "execution_count": 3,
   "metadata": {},
   "outputs": [
    {
     "name": "stderr",
     "output_type": "stream",
     "text": [
      "Pokémon List Progress: 100%|██████████| 1025/1025 [40:03<00:00,  2.34s/it] \n"
     ]
    },
    {
     "data": {
      "text/plain": [
       "'data/pokemon_moves.csv'"
      ]
     },
     "execution_count": 3,
     "metadata": {},
     "output_type": "execute_result"
    }
   ],
   "source": [
    "# pokemon_moves\n",
    "fetcher = FetchPokemonMoves()\n",
    "fetcher.save_pokemon_moves()  \n",
    "fetcher.prepare_moves_data()"
   ]
  },
  {
   "cell_type": "code",
   "execution_count": 2,
   "metadata": {},
   "outputs": [
    {
     "name": "stderr",
     "output_type": "stream",
     "text": [
      "Pokémon List Progress: 100%|██████████| 1025/1025 [10:58<00:00,  1.56it/s]\n"
     ]
    },
    {
     "data": {
      "text/plain": [
       "'./data/pokemon_infos.csv'"
      ]
     },
     "execution_count": 2,
     "metadata": {},
     "output_type": "execute_result"
    }
   ],
   "source": [
    "# pokemon_base\n",
    "fetcher = FetchPokemonbase()\n",
    "fetcher.save_pokemon_data()"
   ]
  },
  {
   "cell_type": "code",
   "execution_count": 3,
   "metadata": {},
   "outputs": [
    {
     "data": {
      "text/plain": [
       "'./data/battles_info.csv'"
      ]
     },
     "execution_count": 3,
     "metadata": {},
     "output_type": "execute_result"
    }
   ],
   "source": [
    "fetcher = FetchBattlesMeta()\n",
    "fetcher.get_battle_info()"
   ]
  },
  {
   "cell_type": "code",
   "execution_count": 4,
   "metadata": {},
   "outputs": [
    {
     "data": {
      "text/plain": [
       "'./data/players_info.csv'"
      ]
     },
     "execution_count": 4,
     "metadata": {},
     "output_type": "execute_result"
    }
   ],
   "source": [
    "fetcher.get_players_info()"
   ]
  },
  {
   "cell_type": "code",
   "execution_count": null,
   "metadata": {},
   "outputs": [],
   "source": []
  },
  {
   "cell_type": "code",
   "execution_count": null,
   "metadata": {},
   "outputs": [],
   "source": []
  }
 ],
 "metadata": {
  "kernelspec": {
   "display_name": "Python 3",
   "language": "python",
   "name": "python3"
  },
  "language_info": {
   "codemirror_mode": {
    "name": "ipython",
    "version": 3
   },
   "file_extension": ".py",
   "mimetype": "text/x-python",
   "name": "python",
   "nbconvert_exporter": "python",
   "pygments_lexer": "ipython3",
   "version": "3.13.1"
  }
 },
 "nbformat": 4,
 "nbformat_minor": 2
}
