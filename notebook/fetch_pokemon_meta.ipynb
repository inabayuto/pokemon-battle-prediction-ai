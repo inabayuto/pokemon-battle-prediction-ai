{
 "cells": [
  {
   "cell_type": "code",
   "execution_count": 1,
   "metadata": {},
   "outputs": [],
   "source": [
    "# 親のフォルダのパスを追加\n",
    "import sys; sys.path.insert(0, '..')\n",
    "\n",
    "import csv\n",
    "import os\n",
    "\n",
    "from util.get_info import FetchPokemonInfo\n",
    "from util.get_moves import FetchPokemonMoves"
   ]
  },
  {
   "cell_type": "code",
   "execution_count": 2,
   "metadata": {},
   "outputs": [
    {
     "name": "stderr",
     "output_type": "stream",
     "text": [
      "100%|██████████| 10/10 [00:05<00:00,  1.73it/s]\n"
     ]
    }
   ],
   "source": [
    "fetcher = FetchPokemonInfo()\n",
    "pokemon_data_list = fetcher.save_pokemon_data()"
   ]
  },
  {
   "cell_type": "code",
   "execution_count": null,
   "metadata": {},
   "outputs": [],
   "source": [
    "# CSVを保存する関数（フォルダがなければ作成）\n",
    "def save_to_csv(filename, data_list):\n",
    "    folder = \"data\"\n",
    "    \n",
    "    # フォルダが存在しなければ作成\n",
    "    if not os.path.exists(folder):\n",
    "        os.makedirs(folder)\n",
    "\n",
    "    # dataフォルダにCSVを保存\n",
    "    filepath = os.path.join(folder, filename)\n",
    "    \n",
    "    with open(filepath, \"w\", newline=\"\", encoding=\"utf-8\") as f:\n",
    "        writer = csv.DictWriter(f, fieldnames=data_list[0].keys())\n",
    "        writer.writeheader()\n",
    "        writer.writerows(data_list)\n",
    "    \n",
    "    print(f\"{filepath} を保存しました！\")\n",
    "save_to_csv(\"pokemon_info.csv\", pokemon_data_list)"
   ]
  },
  {
   "cell_type": "code",
   "execution_count": 4,
   "metadata": {},
   "outputs": [
    {
     "name": "stderr",
     "output_type": "stream",
     "text": [
      "Pokémon List Progress: 100%|██████████| 1/1 [00:00<00:00,  5.35it/s]\n"
     ]
    },
    {
     "data": {
      "text/plain": [
       "'./data/pokemon_moves_sample.csv'"
      ]
     },
     "execution_count": 4,
     "metadata": {},
     "output_type": "execute_result"
    }
   ],
   "source": [
    "fetcher = FetchPokemonMoves()\n",
    "fetcher.save_pokemon_moves()  \n",
    "csv_path = fetcher.prepare_moves_data()\n",
    "csv_path"
   ]
  },
  {
   "cell_type": "code",
   "execution_count": null,
   "metadata": {},
   "outputs": [],
   "source": []
  }
 ],
 "metadata": {
  "kernelspec": {
   "display_name": "Python 3",
   "language": "python",
   "name": "python3"
  },
  "language_info": {
   "codemirror_mode": {
    "name": "ipython",
    "version": 3
   },
   "file_extension": ".py",
   "mimetype": "text/x-python",
   "name": "python",
   "nbconvert_exporter": "python",
   "pygments_lexer": "ipython3",
   "version": "3.13.1"
  }
 },
 "nbformat": 4,
 "nbformat_minor": 2
}
