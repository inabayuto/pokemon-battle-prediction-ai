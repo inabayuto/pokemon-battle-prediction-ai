{
 "cells": [
  {
   "cell_type": "code",
   "execution_count": 1,
   "metadata": {},
   "outputs": [],
   "source": [
    "# 親のフォルダのパスを追加\n",
    "import sys; sys.path.insert(0, '..')\n",
    "\n",
    "import csv\n",
    "import os\n",
    "\n",
    "from util.get_info import FetchPokemonInfo\n",
    "from util.get_moves import FetchPokemonMoves\n",
    "from util.get_training import FetchPokemonTraining"
   ]
  },
  {
   "cell_type": "code",
   "execution_count": null,
   "metadata": {},
   "outputs": [
    {
     "name": "stderr",
     "output_type": "stream",
     "text": [
      "100%|██████████| 10/10 [00:05<00:00,  1.73it/s]\n"
     ]
    }
   ],
   "source": [
    "# pokemon_info\n",
    "fetcher = FetchPokemonInfo()\n",
    "pokemon_data_list = fetcher.save_pokemon_data()"
   ]
  },
  {
   "cell_type": "code",
   "execution_count": null,
   "metadata": {},
   "outputs": [],
   "source": [
    "# CSVを保存する関数（フォルダがなければ作成）\n",
    "def save_to_csv(filename, data_list):\n",
    "    folder = \"data\"\n",
    "    \n",
    "    # フォルダが存在しなければ作成\n",
    "    if not os.path.exists(folder):\n",
    "        os.makedirs(folder)\n",
    "\n",
    "    # dataフォルダにCSVを保存\n",
    "    filepath = os.path.join(folder, filename)\n",
    "    \n",
    "    with open(filepath, \"w\", newline=\"\", encoding=\"utf-8\") as f:\n",
    "        writer = csv.DictWriter(f, fieldnames=data_list[0].keys())\n",
    "        writer.writeheader()\n",
    "        writer.writerows(data_list)\n",
    "    \n",
    "    print(f\"{filepath} を保存しました！\")\n",
    "save_to_csv(\"pokemon_info.csv\", pokemon_data_list)"
   ]
  },
  {
   "cell_type": "code",
   "execution_count": null,
   "metadata": {},
   "outputs": [
    {
     "name": "stderr",
     "output_type": "stream",
     "text": [
      "Pokémon List Progress: 100%|██████████| 1/1 [00:00<00:00,  5.35it/s]\n"
     ]
    },
    {
     "data": {
      "text/plain": [
       "'./data/pokemon_moves_sample.csv'"
      ]
     },
     "execution_count": 4,
     "metadata": {},
     "output_type": "execute_result"
    }
   ],
   "source": [
    "# pokemon_moves\n",
    "fetcher = FetchPokemonMoves()\n",
    "fetcher.save_pokemon_moves()  \n",
    "csv_path = fetcher.prepare_moves_data()"
   ]
  },
  {
   "cell_type": "code",
   "execution_count": 2,
   "metadata": {},
   "outputs": [
    {
     "name": "stderr",
     "output_type": "stream",
     "text": [
      "Pokémon List Progress:   3%|▎         | 29/1010 [00:08<05:50,  2.80it/s]"
     ]
    },
    {
     "name": "stdout",
     "output_type": "stream",
     "text": [
      "nidoran のHTML取得に失敗しました: HTTP Error 404: Not Found\n"
     ]
    },
    {
     "name": "stderr",
     "output_type": "stream",
     "text": [
      "Pokémon List Progress:  12%|█▏        | 120/1010 [00:33<03:35,  4.14it/s]"
     ]
    },
    {
     "name": "stdout",
     "output_type": "stream",
     "text": [
      "mr のHTML取得に失敗しました: HTTP Error 404: Not Found\n"
     ]
    },
    {
     "name": "stderr",
     "output_type": "stream",
     "text": [
      "Pokémon List Progress:  25%|██▍       | 248/1010 [01:06<02:57,  4.31it/s]"
     ]
    },
    {
     "name": "stdout",
     "output_type": "stream",
     "text": [
      "ho のHTML取得に失敗しました: HTTP Error 404: Not Found\n"
     ]
    },
    {
     "name": "stderr",
     "output_type": "stream",
     "text": [
      "Pokémon List Progress:  43%|████▎     | 439/1010 [01:48<01:36,  5.89it/s]"
     ]
    },
    {
     "name": "stdout",
     "output_type": "stream",
     "text": [
      "mime のHTML取得に失敗しました: HTTP Error 404: Not Found\n"
     ]
    },
    {
     "name": "stderr",
     "output_type": "stream",
     "text": [
      "Pokémon List Progress:  76%|███████▌  | 770/1010 [03:02<00:41,  5.74it/s]"
     ]
    },
    {
     "name": "stdout",
     "output_type": "stream",
     "text": [
      "type のHTML取得に失敗しました: HTTP Error 404: Not Found\n"
     ]
    },
    {
     "name": "stderr",
     "output_type": "stream",
     "text": [
      "Pokémon List Progress:  77%|███████▋  | 781/1010 [03:04<00:37,  6.18it/s]"
     ]
    },
    {
     "name": "stdout",
     "output_type": "stream",
     "text": [
      "jangmo のHTML取得に失敗しました: HTTP Error 404: Not Found\n",
      "hakamo のHTML取得に失敗しました: HTTP Error 404: Not Found\n"
     ]
    },
    {
     "name": "stderr",
     "output_type": "stream",
     "text": [
      "Pokémon List Progress:  78%|███████▊  | 783/1010 [03:04<00:32,  7.03it/s]"
     ]
    },
    {
     "name": "stdout",
     "output_type": "stream",
     "text": [
      "kommo のHTML取得に失敗しました: HTTP Error 404: Not Found\n",
      "tapu のHTML取得に失敗しました: HTTP Error 404: Not Found\n"
     ]
    },
    {
     "name": "stderr",
     "output_type": "stream",
     "text": [
      "Pokémon List Progress:  97%|█████████▋| 980/1010 [03:42<00:04,  7.38it/s]"
     ]
    },
    {
     "name": "stdout",
     "output_type": "stream",
     "text": [
      "great のHTML取得に失敗しました: HTTP Error 404: Not Found\n",
      "scream のHTML取得に失敗しました: HTTP Error 404: Not Found\n",
      "brute のHTML取得に失敗しました: HTTP Error 404: Not Found\n"
     ]
    },
    {
     "name": "stderr",
     "output_type": "stream",
     "text": [
      "Pokémon List Progress:  97%|█████████▋| 982/1010 [03:42<00:03,  8.19it/s]"
     ]
    },
    {
     "name": "stdout",
     "output_type": "stream",
     "text": [
      "flutter のHTML取得に失敗しました: HTTP Error 404: Not Found\n",
      "slither のHTML取得に失敗しました: HTTP Error 404: Not Found\n"
     ]
    },
    {
     "name": "stderr",
     "output_type": "stream",
     "text": [
      "Pokémon List Progress:  97%|█████████▋| 984/1010 [03:43<00:02,  8.78it/s]"
     ]
    },
    {
     "name": "stdout",
     "output_type": "stream",
     "text": [
      "sandy のHTML取得に失敗しました: HTTP Error 404: Not Found\n",
      "iron のHTML取得に失敗しました: HTTP Error 404: Not Found\n"
     ]
    },
    {
     "name": "stderr",
     "output_type": "stream",
     "text": [
      "Pokémon List Progress:  98%|█████████▊| 991/1010 [03:44<00:02,  7.15it/s]"
     ]
    },
    {
     "name": "stdout",
     "output_type": "stream",
     "text": [
      "wo のHTML取得に失敗しました: HTTP Error 404: Not Found\n",
      "chien のHTML取得に失敗しました: HTTP Error 404: Not Found\n",
      "ting のHTML取得に失敗しました: HTTP Error 404: Not Found\n"
     ]
    },
    {
     "name": "stderr",
     "output_type": "stream",
     "text": [
      "Pokémon List Progress:  98%|█████████▊| 994/1010 [03:44<00:01,  8.37it/s]"
     ]
    },
    {
     "name": "stdout",
     "output_type": "stream",
     "text": [
      "chi のHTML取得に失敗しました: HTTP Error 404: Not Found\n",
      "roaring のHTML取得に失敗しました: HTTP Error 404: Not Found\n"
     ]
    },
    {
     "name": "stderr",
     "output_type": "stream",
     "text": [
      "Pokémon List Progress:  99%|█████████▉| 998/1010 [03:45<00:01,  6.78it/s]"
     ]
    },
    {
     "name": "stdout",
     "output_type": "stream",
     "text": [
      "walking のHTML取得に失敗しました: HTTP Error 404: Not Found\n"
     ]
    },
    {
     "name": "stderr",
     "output_type": "stream",
     "text": [
      "Pokémon List Progress: 100%|█████████▉| 1008/1010 [03:47<00:00,  7.01it/s]"
     ]
    },
    {
     "name": "stdout",
     "output_type": "stream",
     "text": [
      "gouging のHTML取得に失敗しました: HTTP Error 404: Not Found\n",
      "raging のHTML取得に失敗しました: HTTP Error 404: Not Found\n"
     ]
    },
    {
     "name": "stderr",
     "output_type": "stream",
     "text": [
      "Pokémon List Progress: 100%|██████████| 1010/1010 [03:47<00:00,  4.44it/s]\n"
     ]
    },
    {
     "data": {
      "text/plain": [
       "'./data/pokemon_training.csv'"
      ]
     },
     "execution_count": 2,
     "metadata": {},
     "output_type": "execute_result"
    }
   ],
   "source": [
    "# get_training\n",
    "fetcher = FetchPokemonTraining()\n",
    "fetcher.save_pokemon_training()"
   ]
  },
  {
   "cell_type": "code",
   "execution_count": null,
   "metadata": {},
   "outputs": [],
   "source": []
  }
 ],
 "metadata": {
  "kernelspec": {
   "display_name": "Python 3",
   "language": "python",
   "name": "python3"
  },
  "language_info": {
   "codemirror_mode": {
    "name": "ipython",
    "version": 3
   },
   "file_extension": ".py",
   "mimetype": "text/x-python",
   "name": "python",
   "nbconvert_exporter": "python",
   "pygments_lexer": "ipython3",
   "version": "3.13.1"
  }
 },
 "nbformat": 4,
 "nbformat_minor": 2
}
